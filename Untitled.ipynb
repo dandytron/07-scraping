{
 "cells": [
  {
   "cell_type": "markdown",
   "id": "589cc91e-7f79-4831-be41-9b2c7c4f364f",
   "metadata": {},
   "source": [
    "### 4. Visit https://www.tnwb.uscourts.gov/Search/Search.aspx and search for \"CAR.\" Scrape the results into a CSV, with four columns: the URL to the case, the name of the case, the category (e.g. \"Judge's Opinions), the additional details (terms match/size/pdf URL)."
   ]
  },
  {
   "cell_type": "markdown",
   "id": "596dd7d3-9f22-45fd-9fd8-f25dd083c2e6",
   "metadata": {},
   "source": [
    "#### Bonuses, if you want to get fancy:\n",
    "\n",
    "Split up the additional details into multiple columns\n",
    "Download all of the PDFs of the cases\n",
    "Tips:\n",
    "\n",
    "There are only 10 results, and so many pages! ...maybe there's a secret way to get them all on one page?\n",
    "Check the class you're using and see if it matches the number of results (it probably doesn't!). Inspect the page to find out why. You have two options: use something like we did in class with item.select(\"h1, h2\") – but slightly different, since we're talking about classes – or have two separate loops.\n",
    ".split is often a convenient way to separate semi-structured text\n",
    "Downloading PDFs in Python probably does not involve wget (unless you really want to)\n",
    "Submit on Gracescope as either multiple notebooks or a single notebook."
   ]
  },
  {
   "cell_type": "code",
   "execution_count": null,
   "id": "4fad7469-22fc-45cb-9e22-646e2c71bc04",
   "metadata": {},
   "outputs": [],
   "source": []
  }
 ],
 "metadata": {
  "kernelspec": {
   "display_name": "Python 3 (ipykernel)",
   "language": "python",
   "name": "python3"
  },
  "language_info": {
   "codemirror_mode": {
    "name": "ipython",
    "version": 3
   },
   "file_extension": ".py",
   "mimetype": "text/x-python",
   "name": "python",
   "nbconvert_exporter": "python",
   "pygments_lexer": "ipython3",
   "version": "3.13.3"
  }
 },
 "nbformat": 4,
 "nbformat_minor": 5
}
