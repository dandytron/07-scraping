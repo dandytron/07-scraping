{
 "cells": [
  {
   "cell_type": "markdown",
   "id": "c47c01e4-d16a-47de-85b1-ab8d74da881b",
   "metadata": {},
   "source": [
    "#### 1. Scrape the list of US presidents from https://en.wikipedia.org/wiki/List_of_presidents_of_the_United_StatesLinks using pandas and save them as a CSV."
   ]
  },
  {
   "cell_type": "code",
   "execution_count": null,
   "id": "e621c766-b63a-4ff6-aec0-ca781e384a1a",
   "metadata": {},
   "outputs": [],
   "source": [
    "# in case lxml isn't installed. it wasn't for me!\n",
    "!pip install --quiet lxml html5lib\n",
    "\n",
    "import pandas as pd\n",
    "url = 'https://en.wikipedia.org/wiki/List_of_presidents_of_the_United_States'\n",
    "\n",
    "dfs = pd.read_html(url)\n",
    "\n",
    "presidents_list = dfs[0]\n",
    "\n",
    "# select the first table\n",
    "presidents_list.to_csv('output.csv', index=False)"
   ]
  },
  {
   "cell_type": "code",
   "execution_count": null,
   "id": "5a171c51-2e50-45c4-8389-73b86fd3eb38",
   "metadata": {},
   "outputs": [],
   "source": [
    "url = 'https://travel-id-documents.az.gov/authorized-third-party-driver-license-locations'\n",
    "\n",
    "# we're using some 'fuller' user-agent headers for this one, otherwise it doesn't really give us the table with our request.\n",
    "headers = {\n",
    "    'User-Agent': 'Mozilla/5.0 (Windows NT 10.0; Win64; x64) AppleWebKit/537.36 (KHTML, like Gecko) Chrome/58.0.3029.110 Safari/537.36'\n",
    "}\n",
    "print(response.status_code)\n",
    "doc = BeautifulSoup(response.text, 'html.parser')\n",
    "print(doc)"
   ]
  },
  {
   "cell_type": "code",
   "execution_count": null,
   "id": "57b8dfb1-9ee4-4c1d-aeba-c19f16d3814d",
   "metadata": {},
   "outputs": [],
   "source": [
    "table = doc.findall('table')\n",
    "table_rows = table.find_all('tr')"
   ]
  },
  {
   "cell_type": "code",
   "execution_count": null,
   "id": "27fa06d2-ccad-4f6b-8bce-3c0b87548b43",
   "metadata": {},
   "outputs": [],
   "source": [
    "# make sure to omit row 1 (zero) as its just the labels in the <thead> of the <table>\n",
    "for row in table_rows[1:]:\n",
    "  result = []\n",
    "  if len(row.select('a')) > 0:\n",
    "    result.append(row.select('a')[0]['href'])\n",
    "  else:\n",
    "    result.append('')\n",
    "  cells = row.select('td')\n",
    "  for cell in cells:\n",
    "      result.append(cell.text)\n",
    "  data.append(result)"
   ]
  },
  {
   "cell_type": "code",
   "execution_count": null,
   "id": "5cf98695-3a34-49d1-8439-d99c71aea0f0",
   "metadata": {},
   "outputs": [],
   "source": [
    "df = []\n",
    "df = pd.DataFrame(df, columns=[\"Link\", \"Company\",\"Address\",\"Telephone\",\"Hours\"]"
   ]
  },
  {
   "cell_type": "code",
   "execution_count": null,
   "id": "d09af3ec-1377-4501-b1aa-e67f2266d444",
   "metadata": {},
   "outputs": [],
   "source": [
    "# Should see the first five rows of the table here\n",
    "df.head()"
   ]
  },
  {
   "cell_type": "code",
   "execution_count": null,
   "id": "faccd8d6-2c82-4ccd-af2f-791bccbd5aff",
   "metadata": {},
   "outputs": [],
   "source": [
    "# Save to csv\n",
    "df.to_csv(\"license-locations.csv\")"
   ]
  },
  {
   "cell_type": "code",
   "execution_count": null,
   "id": "0766de28-af5e-400c-84a5-3385323bcd0a",
   "metadata": {},
   "outputs": [],
   "source": []
  }
 ],
 "metadata": {
  "kernelspec": {
   "display_name": "Python 3 (ipykernel)",
   "language": "python",
   "name": "python3"
  },
  "language_info": {
   "codemirror_mode": {
    "name": "ipython",
    "version": 3
   },
   "file_extension": ".py",
   "mimetype": "text/x-python",
   "name": "python",
   "nbconvert_exporter": "python",
   "pygments_lexer": "ipython3",
   "version": "3.13.3"
  }
 },
 "nbformat": 4,
 "nbformat_minor": 5
}
