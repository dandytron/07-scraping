{
 "cells": [
  {
   "cell_type": "markdown",
   "id": "0768f205-f483-4046-b583-386a3c07c801",
   "metadata": {},
   "source": [
    "#### 2. Scrape the content of https://www.lemonde.fr/ and save it as a CSV.\n",
    "\n",
    "We want: titles, subhead, article URL, whether it's premium or not, byline, article type, image URL.\n",
    "\n",
    "#### Bonus, if you want to get fancy:\n",
    "\n",
    "Make the CSV file auto-updating. Use this tutorial (videoLinks to an external site., textLinks to an external site.) but just ignore the visualization/datawrapper aspect"
   ]
  },
  {
   "cell_type": "code",
   "execution_count": 3,
   "id": "d14a5a27-30cb-47dc-a045-77ddfbdb6b17",
   "metadata": {},
   "outputs": [],
   "source": [
    "import pandas as pd\n",
    "import requests\n",
    "import re\n",
    "from bs4 import BeautifulSoup"
   ]
  },
  {
   "cell_type": "code",
   "execution_count": 4,
   "id": "109c07f6-6389-4422-bc7f-a4b4bbf2a66e",
   "metadata": {},
   "outputs": [],
   "source": [
    "# For Le Monde, each of these are, as classes: \n",
    "# title: <p class='article-title'>\n",
    "# subhead: 'article-desc' <p>, \n",
    "# article URL: 'lmd-link-clickarea__link' (a form of <a> its accompanying href), \n",
    "# premium or not? class=\"sr-only\", \n",
    "# byline: class=\"article__byline\" (but not all articles have bylines),\n",
    "# article type: ???\n",
    "# image URL: class=\"initial lzld--loading\" in class=\"article__media\"\n",
    "\n",
    "# fetch the html\n",
    "\n",
    "url = \"https://www.lemonde.fr\"\n",
    "response = requests.get(url)\n",
    "if response.status_code != 200:\n",
    "    print(\"Failed to fetch the webpage.\")\n",
    "    exit()\n",
    "\n",
    "# parse the 'soup' with Beautiful Soup\n",
    "\n",
    "doc = BeautifulSoup(response.text, 'html.parser')\n",
    "\n",
    "# look for articles - all article divs that contain images and headlines on Le Monde tend to start with 'article' but have distinct\n",
    "# styles like 'article article--main' and 'article article--runner old__article-runner.' I'm using a bit of regex to find anything that\n",
    "# has the word 'article' in its class."
   ]
  },
  {
   "cell_type": "code",
   "execution_count": 5,
   "id": "02a651da-179e-4f9d-9ded-9ba9fb43e5c6",
   "metadata": {},
   "outputs": [],
   "source": [
    "items = doc.find_all(class_=re.compile(r'\\barticle\\b'))\n",
    "\n",
    "rows = []\n",
    "\n",
    "for item in items:\n",
    "    row = {}\n",
    "    \n",
    "    # title\n",
    "    title_tag = item.select_one('h1, h2, p')\n",
    "    if title_tag:\n",
    "        title_text = title_tag.get_text()\n",
    "        row['title'] = title_text\n",
    "    else:\n",
    "        title_tag = item.find('div', class_='article__title')\n",
    "        title_text = title_tag.get_text()\n",
    "        row['title'] = title_text\n",
    "\n",
    "    # subhead\n",
    "    try:\n",
    "        row['subhed'] = item.find(class_=\"article__desc\").text\n",
    "    except:\n",
    "        pass\n",
    "\n",
    "    # article url\n",
    "    try:\n",
    "        row['article_url'] = item['href']\n",
    "    except:\n",
    "        row['article_url'] = item.find('a')['href']\n",
    "\n",
    "    # premium?\n",
    "    premium_icon_exists = item.find(class_=re.compile(r'\\bsr-only\\b'))\n",
    "    if premium_icon_exists:\n",
    "        row['premium_or_not'] = \"Premium\"\n",
    "    else:\n",
    "        row['premium_or_not'] = \"\"\n",
    "\n",
    "    # byline - we'll query the metadata of the article itself with a request\n",
    "    response = requests.get(row['article_url'])\n",
    "    soup = BeautifulSoup(response.text)\n",
    "    try:\n",
    "        row['byline'] = soup.find(class_=\"meta__author\").text\n",
    "    except:\n",
    "        row['byline'] = \"\"\n",
    "    \n",
    "    # article type - these are seen as 'breadcrumbs' at the top of the article...\n",
    "    breadcrumb_items = soup.find('li', class_=re.compile(r'\\bbreadcrumb\\b'))\n",
    "    topic_list = []\n",
    "    if breadcrumb_items:\n",
    "        for crumb in breadcrumb_items:\n",
    "            topic_list.append(crumb.text)\n",
    "        row['article_type'] = topic_list\n",
    "    else:\n",
    "        row['article_type'] = \"\"\n",
    "\n",
    "    # image url\n",
    "    try:\n",
    "        image_url = item.find('img')['data-lazy'] or item.find('img')['src']\n",
    "        row['image_url'] = image_url\n",
    "    except:\n",
    "        row['image_url'] = \"\"\n",
    "\n",
    "    rows.append(row)"
   ]
  },
  {
   "cell_type": "code",
   "execution_count": 6,
   "id": "0adbc47f-2241-40a6-a6ef-8ff0308d3219",
   "metadata": {},
   "outputs": [],
   "source": [
    "df=pd.json_normalize(rows)\n",
    "df.to_csv(\"le_monde_scrape.csv\")"
   ]
  }
 ],
 "metadata": {
  "kernelspec": {
   "display_name": "Python 3 (ipykernel)",
   "language": "python",
   "name": "python3"
  },
  "language_info": {
   "codemirror_mode": {
    "name": "ipython",
    "version": 3
   },
   "file_extension": ".py",
   "mimetype": "text/x-python",
   "name": "python",
   "nbconvert_exporter": "python",
   "pygments_lexer": "ipython3",
   "version": "3.13.3"
  }
 },
 "nbformat": 4,
 "nbformat_minor": 5
}
