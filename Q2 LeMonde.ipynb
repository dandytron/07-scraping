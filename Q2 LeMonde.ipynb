{
 "cells": [
  {
   "cell_type": "markdown",
   "id": "0768f205-f483-4046-b583-386a3c07c801",
   "metadata": {},
   "source": [
    "#### 2. Scrape the content of https://www.lemonde.fr/ and save it as a CSV.\n",
    "\n",
    "We want: titles, subhead, article URL, whether it's premium or not, byline, article type, image URL.\n",
    "\n",
    "#### Bonus, if you want to get fancy:\n",
    "\n",
    "Make the CSV file auto-updating. Use this tutorial (videoLinks to an external site., textLinks to an external site.) but just ignore the visualization/datawrapper aspect"
   ]
  },
  {
   "cell_type": "code",
   "execution_count": 1,
   "id": "d14a5a27-30cb-47dc-a045-77ddfbdb6b17",
   "metadata": {},
   "outputs": [],
   "source": [
    "import pandas as pd\n",
    "import requests\n",
    "import re\n",
    "from bs4 import BeautifulSoup"
   ]
  },
  {
   "cell_type": "code",
   "execution_count": 2,
   "id": "109c07f6-6389-4422-bc7f-a4b4bbf2a66e",
   "metadata": {},
   "outputs": [],
   "source": [
    "# For Le Monde, each of these are, as classes: \n",
    "# title: <p class='article-title'>\n",
    "# subhead: 'article-desc' - but we'll make a request to the url we scrape for the subhead of the article on its actual page.\n",
    "# article URL: 'lmd-link-clickarea__link' (a form of <a> its accompanying href), \n",
    "# premium or not? class=\"sr-only\", \n",
    "# byline: class=\"article__byline\" (but not all articles have bylines),\n",
    "# article type: This is also in a weird spot in a 'breadcrumb' class div we'll grab through a request to the url of the story.\n",
    "# image URL: class=\"initial lzld--loading\" in class=\"article__media\"\n",
    "\n",
    "# fetch the html\n",
    "\n",
    "url = \"https://www.lemonde.fr\"\n",
    "response = requests.get(url)\n",
    "if response.status_code != 200:\n",
    "    print(\"Failed to fetch the webpage.\")\n",
    "    exit()\n",
    "\n",
    "# parse the 'soup' with Beautiful Soup\n",
    "\n",
    "doc = BeautifulSoup(response.text, 'html.parser')\n",
    "\n",
    "# look for articles - all article divs that contain images and headlines on Le Monde tend to start with 'article' but have distinct\n",
    "# styles like 'article article--main' and 'article article--runner old__article-runner.' I'm using a bit of regex to find anything that\n",
    "# has the word 'article' in its class."
   ]
  },
  {
   "cell_type": "code",
   "execution_count": 3,
   "id": "02a651da-179e-4f9d-9ded-9ba9fb43e5c6",
   "metadata": {},
   "outputs": [],
   "source": [
    "items = doc.find_all(class_=re.compile(r'\\barticle\\b'))\n",
    "\n",
    "rows = []\n",
    "\n",
    "for item in items:\n",
    "    row = {}\n",
    "    \n",
    "    # title\n",
    "    title_tag = item.select_one('h1, h2, p')\n",
    "    if title_tag:\n",
    "        title_text = title_tag.get_text()\n",
    "        row['title'] = title_text\n",
    "    else:\n",
    "        title_tag = item.find('div', class_='article__title')\n",
    "        title_text = title_tag.get_text()\n",
    "        row['title'] = title_text\n",
    "\n",
    "    # subhead\n",
    "    try:\n",
    "        row['subhed'] = item.find(class_=\"article__desc\").text\n",
    "    except:\n",
    "        pass\n",
    "\n",
    "    # article url\n",
    "    try:\n",
    "        row['article_url'] = item['href']\n",
    "    except:\n",
    "        row['article_url'] = item.find('a')['href']\n",
    "\n",
    "    # premium?\n",
    "    premium_icon_exists = item.find(class_=re.compile(r'\\bsr-only\\b'))\n",
    "    if premium_icon_exists:\n",
    "        row['premium_or_not'] = \"Premium\"\n",
    "    else:\n",
    "        row['premium_or_not'] = \"\"\n",
    "\n",
    "    # byline - we'll query the metadata of the article itself with a request\n",
    "    response = requests.get(row['article_url'])\n",
    "    soup = BeautifulSoup(response.text)\n",
    "    try:\n",
    "        row['byline'] = soup.find(class_=\"meta__author\").text\n",
    "    except:\n",
    "        row['byline'] = \"\"\n",
    "    \n",
    "    # article type - these are seen as 'breadcrumbs' at the top of the article...\n",
    "    breadcrumb_items = soup.find('li', class_=re.compile(r'\\bbreadcrumb\\b'))\n",
    "    topic_list = []\n",
    "    if breadcrumb_items:\n",
    "        for crumb in breadcrumb_items:\n",
    "            topic_list.append(crumb.text)\n",
    "        row['article_type'] = topic_list\n",
    "    else:\n",
    "        row['article_type'] = \"\"\n",
    "\n",
    "    # image url\n",
    "    try:\n",
    "        image_url = item.find('img')['data-lazy'] or item.find('img')['src']\n",
    "        row['image_url'] = image_url\n",
    "    except:\n",
    "        row['image_url'] = \"\"\n",
    "\n",
    "    rows.append(row)"
   ]
  },
  {
   "cell_type": "code",
   "execution_count": 8,
   "id": "6cd0a3ac-37d5-4cf9-871c-a1f21d1c3f57",
   "metadata": {},
   "outputs": [
    {
     "data": {
      "text/plain": [
       "[{'title': 'Anne-Sophie Lapix rejoindra le Groupe M6\\xa0à la rentrée, après son éviction du «\\xa020\\xa0heures\\xa0» de France\\xa02',\n",
       "  'article_url': 'https://www.lemonde.fr/economie/article/2025/06/16/anne-sophie-lapix-rejoindra-le-groupe-m6-a-la-rentree-apres-son-eviction-du-20-heures-de-france-2_6613534_3234.html',\n",
       "  'premium_or_not': '',\n",
       "  'byline': 'Le Monde avec AFP',\n",
       "  'article_type': [' ', '  Économie ', ' '],\n",
       "  'image_url': 'https://img.lemde.fr/2024/09/04/0/0/6000/4000/180/0/95/0/8f25857_1725467669077-215868.jpg'},\n",
       " {'title': 'Nucléaire\\xa0: «\\xa0Les ogres des données sont partis à la chasse aux électrons\\xa0»',\n",
       "  'article_url': 'https://www.lemonde.fr/economie/article/2025/06/04/nucleaire-les-ogres-des-donnees-sont-partis-a-la-chasse-aux-electrons_6610480_3234.html',\n",
       "  'premium_or_not': 'Premium',\n",
       "  'byline': '',\n",
       "  'article_type': [' ', '  Économie ', ' '],\n",
       "  'image_url': 'https://img.lemde.fr/2025/06/03/0/1/2997/1998/180/0/95/0/b0d0c7f_ftp-import-images-1-jo7tnuu5jelx-98277219af4f4d83a5240f40f6a9e594-0-eefa06f25fa649c08b5d91a45b637006.jpg'},\n",
       " {'title': 'Empire Trump\\xa0: «\\xa0Certaines activités soulèvent la suspicion de conflit d’intérêts, dans la mesure où la Maison Blanche influence la réglementation\\xa0»',\n",
       "  'article_url': 'https://www.lemonde.fr/economie/article/2025/06/17/empire-trump-certaines-activites-soulevent-la-suspicion-de-conflit-d-interets-dans-la-mesure-ou-la-maison-blanche-influence-la-reglementation_6613877_3234.html',\n",
       "  'premium_or_not': 'Premium',\n",
       "  'byline': '',\n",
       "  'article_type': [' ', '  Économie ', ' '],\n",
       "  'image_url': 'https://img.lemde.fr/2025/06/17/0/0/7728/5152/180/0/95/0/3f566e9_upload-1-6umknxhicb5l-000-36mc4wg.jpg'},\n",
       " {'title': '«\\xa0Une hausse de la TVA peut être utile pour combler les déficits publics et financer notre modèle social\\xa0»',\n",
       "  'article_url': 'https://www.lemonde.fr/idees/article/2025/06/17/une-hausse-de-la-tva-peut-etre-utile-pour-combler-les-deficits-publics-et-financer-notre-modele-social_6613879_3232.html',\n",
       "  'premium_or_not': 'Premium',\n",
       "  'byline': '',\n",
       "  'article_type': [' ', '  Débats ', ' '],\n",
       "  'image_url': 'https://img.lemde.fr/2025/06/13/0/0/3000/2000/180/0/95/0/9c0bb2e_upload-1-t67u3sel9vjj-frame-841.jpg'}]"
      ]
     },
     "execution_count": 8,
     "metadata": {},
     "output_type": "execute_result"
    }
   ],
   "source": [
    "# lists won't have the head() function a pandas series might, but we can just grab a slice of the top five anyway.\n",
    "rows[0:4]"
   ]
  },
  {
   "cell_type": "code",
   "execution_count": 7,
   "id": "0adbc47f-2241-40a6-a6ef-8ff0308d3219",
   "metadata": {},
   "outputs": [],
   "source": [
    "# Export to csv\n",
    "df=pd.json_normalize(rows)\n",
    "df.to_csv(\"le_monde_scrape.csv\")"
   ]
  },
  {
   "cell_type": "code",
   "execution_count": null,
   "id": "e1be767c-42d1-489f-83bd-2152728e04d3",
   "metadata": {},
   "outputs": [],
   "source": []
  }
 ],
 "metadata": {
  "kernelspec": {
   "display_name": "Python 3 (ipykernel)",
   "language": "python",
   "name": "python3"
  },
  "language_info": {
   "codemirror_mode": {
    "name": "ipython",
    "version": 3
   },
   "file_extension": ".py",
   "mimetype": "text/x-python",
   "name": "python",
   "nbconvert_exporter": "python",
   "pygments_lexer": "ipython3",
   "version": "3.13.3"
  }
 },
 "nbformat": 4,
 "nbformat_minor": 5
}
