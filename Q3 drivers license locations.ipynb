{
 "cells": [
  {
   "cell_type": "markdown",
   "id": "7459924e-3cc2-4e73-a493-8a0737e3e1b7",
   "metadata": {},
   "source": [
    "### 3. Scrape the list of third party drivers license locations from https://travel-id-documents.az.gov/authorized-third-party-driver-license-locations but include the link. Save as a CSV. Since it's more than just the text from the table, this requires actually using BeautifulSoup :("
   ]
  },
  {
   "cell_type": "code",
   "execution_count": 7,
   "id": "7109adb0-b28a-42c6-90d3-0bc997961661",
   "metadata": {},
   "outputs": [
    {
     "name": "stdout",
     "output_type": "stream",
     "text": [
      "403\n",
      "<!DOCTYPE html>\n",
      "<html lang=\"en-US\"><head><title>Just a moment...</title><meta content=\"text/html; charset=utf-8\" http-equiv=\"Content-Type\"/><meta content=\"IE=Edge\" http-equiv=\"X-UA-Compatible\"/><meta content=\"noindex,nofollow\" name=\"robots\"/><meta content=\"width=device-width,initial-scale=1\" name=\"viewport\"/><style>*{box-sizing:border-box;margin:0;padding:0}html{line-height:1.15;-webkit-text-size-adjust:100%;color:#313131;font-family:system-ui,-apple-system,BlinkMacSystemFont,Segoe UI,Roboto,Helvetica Neue,Arial,Noto Sans,sans-serif,Apple Color Emoji,Segoe UI Emoji,Segoe UI Symbol,Noto Color Emoji}body{display:flex;flex-direction:column;height:100vh;min-height:100vh}.main-content{margin:8rem auto;max-width:60rem;padding-left:1.5rem}@media (width <= 720px){.main-content{margin-top:4rem}}.h2{font-size:1.5rem;font-weight:500;line-height:2.25rem}@media (width <= 720px){.h2{font-size:1.25rem;line-height:1.5rem}}#challenge-error-text{background-image:url(data:image/svg+xml;base64,PHN2ZyB4bWxucz0iaHR0cDovL3d3dy53My5vcmcvMjAwMC9zdmciIHdpZHRoPSIzMiIgaGVpZ2h0PSIzMiIgZmlsbD0ibm9uZSI+PHBhdGggZmlsbD0iI0IyMEYwMyIgZD0iTTE2IDNhMTMgMTMgMCAxIDAgMTMgMTNBMTMuMDE1IDEzLjAxNSAwIDAgMCAxNiAzbTAgMjRhMTEgMTEgMCAxIDEgMTEtMTEgMTEuMDEgMTEuMDEgMCAwIDEtMTEgMTEiLz48cGF0aCBmaWxsPSIjQjIwRjAzIiBkPSJNMTcuMDM4IDE4LjYxNUgxNC44N0wxNC41NjMgOS41aDIuNzgzem0tMS4wODQgMS40MjdxLjY2IDAgMS4wNTcuMzg4LjQwNy4zODkuNDA3Ljk5NCAwIC41OTYtLjQwNy45ODQtLjM5Ny4zOS0xLjA1Ny4zODktLjY1IDAtMS4wNTYtLjM4OS0uMzk4LS4zODktLjM5OC0uOTg0IDAtLjU5Ny4zOTgtLjk4NS40MDYtLjM5NyAxLjA1Ni0uMzk3Ii8+PC9zdmc+);background-repeat:no-repeat;background-size:contain;padding-left:34px}@media (prefers-color-scheme:dark){body{background-color:#222;color:#d9d9d9}}</style><meta content=\"360\" http-equiv=\"refresh\"/></head><body><div class=\"main-wrapper\" role=\"main\"><div class=\"main-content\"><noscript><div class=\"h2\"><span id=\"challenge-error-text\">Enable JavaScript and cookies to continue</span></div></noscript></div></div><script>(function(){window._cf_chl_opt={cvId: '3',cZone: \"travel-id-documents.az.gov\",cType: 'managed',cRay: '9511e3e1490fe8cb',cH: 'eeI5kadh4wyMpQj60xWst2UrBnypaRyMiJ5fW3I1fDQ-1750156421-1.2.1.1-7.wpTxRp6XTvhKgaDIlRyyZeEzEddfN5Ri5zMyfM14kHu_c_Wwdz5hKnkymN1aO9',cUPMDTk: \"\\/authorized-third-party-driver-license-locations?__cf_chl_tk=I_4GHjl5HCLUgd9RsQz_9gbQh9Wg98_XGPE_2FcbJxo-1750156421-1.0.1.1-sgfF6jNwswt1.ReS_DcT26fAF8G.DFjhzTfr_fbtzqk\",cFPWv: 'b',cITimeS: '1750156421',cTplC: 0,cTplV: 5,cTplB: 'cf',fa: \"\\/authorized-third-party-driver-license-locations?__cf_chl_f_tk=I_4GHjl5HCLUgd9RsQz_9gbQh9Wg98_XGPE_2FcbJxo-1750156421-1.0.1.1-sgfF6jNwswt1.ReS_DcT26fAF8G.DFjhzTfr_fbtzqk\",md: \"qWv.iYPujGK8_VqjqBhW8zGbM4jWooOB3NhFQLUY_7w-1750156421-1.2.1.1-TCsUa4b6PbQoz0B.DJ3drky3ylncZ3kdrWq3vYKeUKbMDPhyjJVGQc1TMFQh5Nic9HXL0X8aB9UE8O.UCeLR45pUla4GOcAVWWc6LToKXi27w8i4tJMRP4HzT.bXebZ4xt22WKnnMpmt5Fj6.it2eYxX3REjagIHAzGqRAHGMNRKM09TlkMFC_wpU9DgP7krUIpyjDrHQIHHUDnozX_B1nO8c_QCfCGKgiLzuzxCPAeYRpTYmiDRZbh166H3YHXg1AYyl1eScx9yrWRymTrJL8pkWiotxytA5HwTJty_Z5d1LneymuK_UXZJGWxZ.Q_jeP_MvNdbrzY8Mm.UNSxWzrRZ4UJaQ87bzBpTDoRHGMuGCwRpkprRfeZJTEj2qg2wGWhVs9J_.uyNIyq37DHPA2PfscpOuwRbhSoAnQf6H.Ue0MQ4J92uSyMIJu1V.LUQtekgejEoxylURxKOLHEqlsQII3euz30ZHT_T3PAWwC2kfjS5D61Xmdo7yZUXyfsuvD_X_.zSKE7dB2VQ3O5x1YCNq9QsiRfA0m0bFMf8U98CtGoA96epnSuKm_bGmIaFIkSOCunZ6.x.QCCm10CIkTRV82GboBwd7gb2vuoVz6yVALckcoQAvUmNnSoR1yOTdxFwFRbcxhLu1W_BOVrAcbg73jaHb8DGb0ha_.gvl8PTkcLAdqMwGfPPL0nM3pv9w6uCrhf2cIDT1xLiToIV.9EI5k8tPUUjhalHP1dfaRd9Hfqc79a6z3mOzQLE5C_7OY85rDcMNHlYFdFSDEHSBlC0H6oUNXQmcYzJ02HBWUU1_q3N7KcZxuI4N4rgB8nLXbUEpTdz7lEJiiqPpAaMs8CzPdNbKwmvPZUOErbPY5NOxfnrWwwyRcQ.Xd8c7kLtN40i.4pR6rVmGGbImSQmRZDebCriHzPJRfy1ddR_SXzq4bwzyDpgOunM7podgWIm2FDuPJEv6BUAfE9bKwLD7nryBXVa5EBk1788_DQCiVSbWsGxIiYCQlnyVCAfABOb2OuOBgvNjE35.2hyfHXWEg\",mdrd: \"jfMvwAKYo._KKDcohyn_mnKjtrIDlkPd8q3f_0WR8q0-1750156421-1.2.1.1-.WPowGQlyx_AgKL1gMKPDrr7EGH5BSKOb_2Mwtq9ZC6II4ptPYeyJEZ9fgfjmhJwoGplc38aLrQkFKhE9C3hElbO73zJi2zfdC2UWgzM0xJJbEWyg4XfhTin3.GEKG5B4AonSXQlwmFJPNhEk2y9h4chJ_n5Abn0Ut8agb.H77a9PkCOnw7ys1QdsiwN0LbSa5Z.8O5BTCFXISs0GEEhbAkCHk9B4G7vDJWvzCxqgVFxylVTmVVG2ReWmAyuDQfoIkTXsNCux5vcIr30Fr_Zh77KI3VtVBzv65keh9YEqGENne1P12FNlBZ9HdpLZf3g0KLVwwhn7HBvURBwLrFacfC9rWE3Jt_qFA2mb_ZYqWHLkh4YGm9kIEhwwvs47LFxGevoTh1WYKUcxGgPMV.bk4B0J3JjEXif9QzTvNIvhKNTpw8vn6etBlTBxhGgajyjT9YrWsVw.vEnV9AH7QNPrtF9h9OOlT_ydua89XHcTY0p6IlaFuUxI4COU6tx8eLtSiuOh2.c2h6bkPBh78GHjk7jDYGLOn6MuDn5b8epYYE.KB3._Trpviyjsxz_bAw1Yyqfo5d2yQAZpyFP7QzcHC15qU_FWIYMl1IpmmRCHBbcQZLaYSxeayBwwC4myr31f6WQCPYl0PDhpTyK7Stn1A07LudxzL8brfn7IVoW8nNcI1U7YrvnuelL0s67Rmg7hj47d_wmpSXQnQSQGwWjKeMTV8dsPcJNEveTZXDVk1lOVdU3NuABsWD9yB29Tbc0thvRCIUITJ9bOeiaijCwCp.8UUTCJ6u6KXmax.wFXoetYzWz9auaCASQCSTigO9Hv3oJL8wvLCRzqMV5wwCtbjkd8Ow..448KWPimlNMQCZLru7az2VQH2rXqmzC4mHlndVIjSsJmE8MN47kjcQiz7oLkiiY3FbGVIU4pENX3osv8ptSRUzLcYkiYqe2OiGoTrHKicpv3mgTVfmhzQdlDA6XWVcR3qYHiG6JHUG1UhhDx39jcv69sVz5rWqxltUTY_e956FLBBG15BbdJla1N.OfJL7iGSSeFF6If5Nf8c4SLy127ApBx4MZ.nkElFbGNHK.y_gq1iqT0DqF7x.H4IXmlNZs3N5kPb.9YWCSwIcXwvOwVvBMnBHM4X4jNnuig6F8llS4scZHXldLXj31JzwFSXqYP9zV.fAfN6NBwxcwjNa_9EVQF7Yhx_aHg9jCAxnvKHMsvdXUUgV8BKy9v97GOO4EFTo_wcgHRSx675ytM1imSDK5bB6.7WDZCx2WyNszDnAJfFCxeycMPfOt_vMUeGJ_pBT1uQCpFVbOpmw0SR8btAK_C6svVUqkISiuhuL6dPwnta.fv2ylO.hzqd3fNkq9GcZbxvpSU1BIhcH1uS9tQmkk098ZetGmaLhgs0PUnv5QDIF4XRnV.sAsZgFCu3x_yJbG5.BuNnasalm0v4PQ_Lv2taK5mF24nSqAAaFzb7dGJGAdMvzeuXlEK3lqcy69tT7Z_ZURklyZ_IdshqOsb2BQU1PcUDmCbqw2NbDr7JHCNlYfa_dhiqQI9_FAr6Su1Y3jBsSu9apmiw8rjaxPa32g7lLpSDYht6nCcKRU2L.rG0lzds488i4y7zIQe9_JNp1OfPqpgLWmaUe4rOBYa04Z2WF7DCwS8lgK.EW9OEhZ1JYGLq.KPOJuUltTy7MeiXwF1RQeOGzaN7XlnOYcjEOVESrsWnw6MW1twz0uNqifj8gdPYdsJX3bg3MVRaUH6hdt5lleodp5cKRYOvcrUDmYa9b_wX2guK2D7evh8DzF3lYmRePwN2gh42msv4eyiopj8O2bvuMsfms3wrO.PuHnf9OWb_c1kCmrc.AhEP7MEIiyijOlgOyffXGCEu9.lrVMn1vNsPoYlvaXrwC4FPbeOA4eUaCWI6XV_F16sQmLA5rFdcrEJSrJmCtjGMuzJ_xQ1f6.9mTGzGqgJoJPvLJz8PHkoP_uAS6cMgTNMx9xHolGMqrGz9fl6PT98zUGnZ2SyzGamCH8hAwLqJwSHFVBkvJ5yG6pnDwqwI_klgkcdvm6Ne4zLJOBgRD67gZpfhz7OIbPvsEt2QBvBU5WK7fWTz.0_YjLGDox6sNtKRonkaOx_Bg1dsTiW2JRxaImIt6PL4rrNurrtlBlUfgMXBstm5SY9ZeNqIWXspApKhXZiqQiXkr0rZ3YTSpUE5EqKhZZIw2lkmRSduPVzQNj1xI_vN8CvT0H2gcSudD54IEp6vKvHok7hHWoXWjIMxvYAAUdmB9g25ZDuZsFzDQ4DPMk4bKJIgvVcoBnI4U_gvKm.YY.m6PD0bcr1UMtkSdDc_fabRlyDFH0I2MxoV3_iPruc9EMgphMNid8DyXqgioLzaYYHWXwXPqfVqC9xvjp2RDPgoJ85VUJ.OPguW_5c0GAw4M6CR72oJcjtu0bMt08YnnbtqLV447pjjF6QVhfSnhqoBrmVZT09uuoO2Hb1IuLVGn5ZNEsX9Nx7vq2BwNJ3GWVYpvO9G4TOh2Ghc2AHGluc6fyaacb1wh4n5LN4DjVrZjj.PcPuKV9sdn8q0dlkZV5Vnjv6gEGwrjtXmQZJzkbZkUOAzOCtaa9pVkidC.yKUIARNHzTt0qK6ZLiEOq6Lw83adPoQ3PqnYcD.lrlM5c7DSWOizge1fjT5bldew8MxhBzMEj3eCpYkFCN5_S4nByjYWzoDLo.9QIbnP2S8Trd9cUk23qK_1w5KunNWojVuR5fJPqqQrt7xjQkIpKsOHOfJKmbkBzCdYgJULH.aa70NHEsVmXQxa606dbkxGck8CWLbgas5s1Py543KLXNl20nXLWtEB1igTIcRjD.kWrvPLCjOJphhZEMNA_dlq0Z8xX4Ep2V7qA2H38WGUmFJIStpG.56jV0aMVQdh2qL2GFCb7WWpxgfdNer.8ZaAWXxchqCRhk5eecI9L_2T5xeeq6XiVaBRGoA8CkAM3getRtoFHPuKExo8IRQv2xw0htKQQNO03Knky6OfMC2.Ti3eWenwlfdyWir_XIIEn3HrU1qBi_SizuNaNmTONuBNEdZPLQxhF08eJaQfLr1YGusS7.FKbPBzSM49CL4CE2eF1lQM65WajxkQTbfJTd5_CUa.GbhqQiIHKT6LTlbLgotXhwIbhw30gOS_3.GJQsFyg6hsrVTyB4BfbMplJVqzPkVHGM5sJtIbqqqDjejjUD0iRHyY6F83p8pn6BKvIO2G860Shu7qCwk6IUX9bGX_INzIaOQBG9iS5_h_M22w24BJ5LWQBrwLwgAcy5Ustd7yNGHAX5qCNN5wEQm7Snfsy9pgduPlp9l5kU.Rh133YX3zqXp8ftMaf8DCP7RgGUc9vu.hM4ivZtY1PalaS0RZiedpPCJx07sxRP2l7oNVQZ5aou58foP6erIffUa6IELrU5TLSUYWJcD_BpAdrHoh07.0io_wmQDrgA.pZfk0p4xzxoV5WqqDq7kYSuD.pzkhjF03iAUmXRPAuH_MRzFZ2Jw243cmMRdUr9K7.Me5pZJgp_puJcHxj5S7lQ6OQ_0nixRG84Nyx49HkqHbMoa0KHKk5tHx8hDAy.GL7Xxh.0hUFdRwSVlfepU2KFD.1vK84hz4__CT.eJ8luAXh3ayQgWKr_QDIFH8y1wyTI4nKxYDxpppEfASHorHgn7pQ8waH1U7oyVTb2bnywHde2aH5BD4iDCtJ0ToOFDfnVCaT7dfdcaTwVbgt9QObDFHPkQ3YqT2uxTrPXE3T4nYsZ8vvJPdx73QJomoyJT.W0UEzkGtTUa5qJQf5FC2dGFtROwX3Jt58M1YEHtub3yLwlCf_q8X8BDiWdYMW3M2uq4TjFF93c1tsHyqfaVN4ecuF6l3XGVRmy9MrtAlPZTzBRJyBUasUsqlV2SpWrThK5LXllPp31dSHxvXMcfCEvh_IvYx7QKkqtpwqJn5y_bAiJJNXIdgyd6ii949wCNLh5UkkgU3V4F6RwxFtWtDwTQUvsIElTnG29ltzamGmOvB6XAonaS8z.15lNmrw1p7nh8rI1khlOgmbtGaE9_ukdgV3qkeXzP5TUj_DlJgxN4bIyJnOr7sZIBCUlcUU7i91KKMXJb8YbSjBfOiEeP7Dvir6xZ9UYbDgBzMhjV_E42RiwYge3fjluhbWhmT47_IoLSTYTsfZDy35hAiPWm64odUZNzhGTG2INWlWZjxFomj9cnDzX.ll6GtvFWEXRSuwa5TdEYHFbqHMrxAbFaOJ8FN5Kw1z1uJFzGY2wXxKPbUxfsHLtr0xLW8Bgg7rtIE9g0Mmt_yUHPOIMSYHfDGMYrOYraf3vcLgsKgQHrhwVqwcT7RGOzwx13nnR49gOmuV9NIoeCUZ_g.vDcDa4A\",};var a = document.createElement('script');a.src = '/cdn-cgi/challenge-platform/h/b/orchestrate/chl_page/v1?ray=9511e3e1490fe8cb';window._cf_chl_opt.cOgUHash = location.hash === '' && location.href.indexOf('#') !== -1 ? '#' : location.hash;window._cf_chl_opt.cOgUQuery = location.search === '' && location.href.slice(0, location.href.length - window._cf_chl_opt.cOgUHash.length).indexOf('?') !== -1 ? '?' : location.search;if (window.history && window.history.replaceState) {var ogU = location.pathname + window._cf_chl_opt.cOgUQuery + window._cf_chl_opt.cOgUHash;history.replaceState(null, null, \"\\/authorized-third-party-driver-license-locations?__cf_chl_rt_tk=I_4GHjl5HCLUgd9RsQz_9gbQh9Wg98_XGPE_2FcbJxo-1750156421-1.0.1.1-sgfF6jNwswt1.ReS_DcT26fAF8G.DFjhzTfr_fbtzqk\" + window._cf_chl_opt.cOgUHash);a.onload = function() {history.replaceState(null, null, ogU);}}document.getElementsByTagName('head')[0].appendChild(a);}());</script></body></html>\n"
     ]
    }
   ],
   "source": [
    "import requests\n",
    "import pandas as pd\n",
    "from bs4 import BeautifulSoup\n",
    "\n",
    "url = 'https://travel-id-documents.az.gov/authorized-third-party-driver-license-locations'\n",
    "\n",
    "# we're using some 'fuller' user-agent headers for this one, otherwise it doesn't really give us the table with our request.\n",
    "headers = {\n",
    "    'User-Agent': 'Mozilla/5.0 (Windows NT 6.3; Win64; x64) AppleWebKit/537.36 (KHTML, like Gecko) Chrome/116.0.5841.0 Safari/537.36'\n",
    "}\n",
    "\n",
    "response = requests.get(url, headers=headers)\n",
    "\n",
    "print(response.status_code)\n",
    "\n",
    "doc = BeautifulSoup(response.text)\n",
    "print"
   ]
  },
  {
   "cell_type": "code",
   "execution_count": 5,
   "id": "e419b440-3ec4-447b-bd6c-0d840bc1c88f",
   "metadata": {},
   "outputs": [
    {
     "ename": "AttributeError",
     "evalue": "'NoneType' object has no attribute 'find'",
     "output_type": "error",
     "traceback": [
      "\u001b[31m---------------------------------------------------------------------------\u001b[39m",
      "\u001b[31mAttributeError\u001b[39m                            Traceback (most recent call last)",
      "\u001b[36mCell\u001b[39m\u001b[36m \u001b[39m\u001b[32mIn[5]\u001b[39m\u001b[32m, line 1\u001b[39m\n\u001b[32m----> \u001b[39m\u001b[32m1\u001b[39m table = \u001b[43mdoc\u001b[49m\u001b[43m.\u001b[49m\u001b[43mfind\u001b[49m\u001b[43m(\u001b[49m\u001b[33;43m'\u001b[39;49m\u001b[33;43mtable\u001b[39;49m\u001b[33;43m'\u001b[39;49m\u001b[43m)\u001b[49m\u001b[43m.\u001b[49m\u001b[43mfind\u001b[49m(\u001b[33m'\u001b[39m\u001b[33mtbody\u001b[39m\u001b[33m'\u001b[39m)\n",
      "\u001b[31mAttributeError\u001b[39m: 'NoneType' object has no attribute 'find'"
     ]
    }
   ],
   "source": [
    "table = doc.find('table').find('tbody')"
   ]
  },
  {
   "cell_type": "code",
   "execution_count": null,
   "id": "b84787e5-f0ac-4cf8-8e8b-5aed881e9b19",
   "metadata": {},
   "outputs": [],
   "source": [
    "table_rows = table.find_all('tr')"
   ]
  },
  {
   "cell_type": "code",
   "execution_count": 4,
   "id": "abebccc7-7dcb-4455-a108-7c0acaa57db4",
   "metadata": {},
   "outputs": [
    {
     "ename": "NameError",
     "evalue": "name 'table_rows' is not defined",
     "output_type": "error",
     "traceback": [
      "\u001b[31m---------------------------------------------------------------------------\u001b[39m",
      "\u001b[31mNameError\u001b[39m                                 Traceback (most recent call last)",
      "\u001b[36mCell\u001b[39m\u001b[36m \u001b[39m\u001b[32mIn[4]\u001b[39m\u001b[32m, line 2\u001b[39m\n\u001b[32m      1\u001b[39m \u001b[38;5;66;03m# make sure to omit row 1 (zero) as its just the labels in the <thead> of the <table>\u001b[39;00m\n\u001b[32m----> \u001b[39m\u001b[32m2\u001b[39m \u001b[38;5;28;01mfor\u001b[39;00m row \u001b[38;5;129;01min\u001b[39;00m \u001b[43mtable_rows\u001b[49m[\u001b[32m1\u001b[39m:]:\n\u001b[32m      3\u001b[39m   result = []\n\u001b[32m      4\u001b[39m   \u001b[38;5;28;01mif\u001b[39;00m \u001b[38;5;28mlen\u001b[39m(row.select(\u001b[33m'\u001b[39m\u001b[33ma\u001b[39m\u001b[33m'\u001b[39m)) > \u001b[32m0\u001b[39m:\n",
      "\u001b[31mNameError\u001b[39m: name 'table_rows' is not defined"
     ]
    }
   ],
   "source": [
    "# make sure to omit row 1 (zero) as its just the labels in the <thead> of the <table>\n",
    "data = []\n",
    "for row in table_rows[1:]:\n",
    "  result = []\n",
    "  if len(row.select('a')) > 0:\n",
    "    result.append(row.select('a')[0]['href'])\n",
    "  else:\n",
    "    result.append('')\n",
    "  cells = row.select('td')\n",
    "  for cell in cells:\n",
    "      result.append(cell.text)\n",
    "  data.append(result)"
   ]
  },
  {
   "cell_type": "code",
   "execution_count": null,
   "id": "ac8fc533-ae0c-432c-b0a6-5555a5698228",
   "metadata": {},
   "outputs": [],
   "source": [
    "df = []\n",
    "df = pd.DataFrame(df, columns=[\"Link\", \"Company\",\"Address\",\"Telephone\",\"Hours\"]"
   ]
  },
  {
   "cell_type": "code",
   "execution_count": null,
   "id": "990dfcad-f2df-499b-ac3b-5a605f81f45e",
   "metadata": {},
   "outputs": [],
   "source": [
    "# Should see the first five rows of the table here\n",
    "df.head()"
   ]
  },
  {
   "cell_type": "code",
   "execution_count": null,
   "id": "d2adb685-3e20-4819-bdaf-0d4e91b59e69",
   "metadata": {},
   "outputs": [],
   "source": [
    "# Save to csv\n",
    "df.to_csv(\"license-locations.csv\")"
   ]
  }
 ],
 "metadata": {
  "kernelspec": {
   "display_name": "Python 3 (ipykernel)",
   "language": "python",
   "name": "python3"
  },
  "language_info": {
   "codemirror_mode": {
    "name": "ipython",
    "version": 3
   },
   "file_extension": ".py",
   "mimetype": "text/x-python",
   "name": "python",
   "nbconvert_exporter": "python",
   "pygments_lexer": "ipython3",
   "version": "3.13.3"
  }
 },
 "nbformat": 4,
 "nbformat_minor": 5
}
