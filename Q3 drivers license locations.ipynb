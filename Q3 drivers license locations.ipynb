{
 "cells": [
  {
   "cell_type": "markdown",
   "id": "7459924e-3cc2-4e73-a493-8a0737e3e1b7",
   "metadata": {},
   "source": [
    "### 3. Scrape the list of third party drivers license locations from https://travel-id-documents.az.gov/authorized-third-party-driver-license-locations but include the link. Save as a CSV. Since it's more than just the text from the table, this requires actually using BeautifulSoup :("
   ]
  },
  {
   "cell_type": "code",
   "execution_count": 3,
   "id": "7109adb0-b28a-42c6-90d3-0bc997961661",
   "metadata": {},
   "outputs": [
    {
     "name": "stdout",
     "output_type": "stream",
     "text": [
      "403\n",
      "<!DOCTYPE html>\n",
      "<html lang=\"en-US\"><head><title>Just a moment...</title><meta content=\"text/html; charset=utf-8\" http-equiv=\"Content-Type\"/><meta content=\"IE=Edge\" http-equiv=\"X-UA-Compatible\"/><meta content=\"noindex,nofollow\" name=\"robots\"/><meta content=\"width=device-width,initial-scale=1\" name=\"viewport\"/><style>*{box-sizing:border-box;margin:0;padding:0}html{line-height:1.15;-webkit-text-size-adjust:100%;color:#313131;font-family:system-ui,-apple-system,BlinkMacSystemFont,Segoe UI,Roboto,Helvetica Neue,Arial,Noto Sans,sans-serif,Apple Color Emoji,Segoe UI Emoji,Segoe UI Symbol,Noto Color Emoji}body{display:flex;flex-direction:column;height:100vh;min-height:100vh}.main-content{margin:8rem auto;max-width:60rem;padding-left:1.5rem}@media (width <= 720px){.main-content{margin-top:4rem}}.h2{font-size:1.5rem;font-weight:500;line-height:2.25rem}@media (width <= 720px){.h2{font-size:1.25rem;line-height:1.5rem}}#challenge-error-text{background-image:url(data:image/svg+xml;base64,PHN2ZyB4bWxucz0iaHR0cDovL3d3dy53My5vcmcvMjAwMC9zdmciIHdpZHRoPSIzMiIgaGVpZ2h0PSIzMiIgZmlsbD0ibm9uZSI+PHBhdGggZmlsbD0iI0IyMEYwMyIgZD0iTTE2IDNhMTMgMTMgMCAxIDAgMTMgMTNBMTMuMDE1IDEzLjAxNSAwIDAgMCAxNiAzbTAgMjRhMTEgMTEgMCAxIDEgMTEtMTEgMTEuMDEgMTEuMDEgMCAwIDEtMTEgMTEiLz48cGF0aCBmaWxsPSIjQjIwRjAzIiBkPSJNMTcuMDM4IDE4LjYxNUgxNC44N0wxNC41NjMgOS41aDIuNzgzem0tMS4wODQgMS40MjdxLjY2IDAgMS4wNTcuMzg4LjQwNy4zODkuNDA3Ljk5NCAwIC41OTYtLjQwNy45ODQtLjM5Ny4zOS0xLjA1Ny4zODktLjY1IDAtMS4wNTYtLjM4OS0uMzk4LS4zODktLjM5OC0uOTg0IDAtLjU5Ny4zOTgtLjk4NS40MDYtLjM5NyAxLjA1Ni0uMzk3Ii8+PC9zdmc+);background-repeat:no-repeat;background-size:contain;padding-left:34px}@media (prefers-color-scheme:dark){body{background-color:#222;color:#d9d9d9}}</style><meta content=\"360\" http-equiv=\"refresh\"/></head><body><div class=\"main-wrapper\" role=\"main\"><div class=\"main-content\"><noscript><div class=\"h2\"><span id=\"challenge-error-text\">Enable JavaScript and cookies to continue</span></div></noscript></div></div><script>(function(){window._cf_chl_opt={cvId: '3',cZone: \"travel-id-documents.az.gov\",cType: 'managed',cRay: '950a55439cab0399',cH: 'KARVFrcdQTyQiFd09ZDyYT0MLF1FxwN_Qss_3w_8pAo-1750077179-1.2.1.1-_q4ywL3jnVoEomTVMNrHxmewpffnrVpuE6Fc_7iF7A1bW7ri_6BAnVW5jpuZrOxL',cUPMDTk: \"\\/authorized-third-party-driver-license-locations?__cf_chl_tk=DVAtE1crnNoE6jM0dK6KOYjO4p4zImoaDCT5axdGaRc-1750077179-1.0.1.1-ly.HsCdXML461x3xo.8egci2QKpWL3CYdvceKqiobg4\",cFPWv: 'b',cITimeS: '1750077179',cTplC: 0,cTplV: 5,cTplB: 'cf',fa: \"\\/authorized-third-party-driver-license-locations?__cf_chl_f_tk=DVAtE1crnNoE6jM0dK6KOYjO4p4zImoaDCT5axdGaRc-1750077179-1.0.1.1-ly.HsCdXML461x3xo.8egci2QKpWL3CYdvceKqiobg4\",md: \"KoLwTieLTxlpni.p7n2dorha9TVbWIxv5Q2ON7s4b_g-1750077179-1.2.1.1-IkipIk.l8u.Fds5_lFcpg2V4UTnZpWu3RbDTzVURbAp7NWfTAdYfTZ_YLqHdDb6iOsoAYl1mZ4gfirv2dETofFjMZEwe9GyiZrPYnFGPwXxv8Apu4oVTJxaHKbY0EaS07wor.cVVcCROflfsK9XxlL3jJWJzT2KHjHXGF95y0LdW9HETAIZal8pEmCDdbFSAiY.O9cnEBW_U1rUzvWmQmM1NPPOqTBQOQNKNq_xMPDLBk7k37KGP5zqbkjZ9SdXDob92Qj9BcTfg9N8Xy9CF4Cxrj9r0KzAsIaUCYz4HkPaO2Pi2FA2zJ33IQi0vHRLcfqsL5zGVFr7NgETZxwoPePm5GUiGbHw_Q7yLllIUJvvvuiO5KsflP0xRYQHlxSgme4XC6QAuII0MWySj786yeFG94pZ_WwGXE8.d4l_2511csqjpJN_HtOmxtVWFeitOLxpqwLW8955dS23sCLJ9F7Gxbi6TpcSNidH20Xw7tNnUBQye53Bo20L5Dba.gSC5EcktGUvuehZkIZAM1eHvAy6h4nMJYhve4HBXSPZbMJlf0anWDsaihwuGCSyQEFWrUUR6p.XRnFq5_qhxuaW5d4MxJ.WXXlRHEnI4d3UwHra3aERTWOfRDTjMx17G62RcuVlAPt5Y.xhvi2eoFRkN4.GYPp1wh7jiq21R.BOcX5hROKRdhzu3jKcHQJh5HVB94S5yHcjHuD5Clk2ON5yDtHOZSUJ09sD6pk5xkn2CXMfXCoz5czJbbwa1mIQfIJGieOK_LEYAiB8pvR8Re77EVFz2R5cLJxi6ZdNxNcF36CrCXDNA0ovYc4kNtWkrI6QuJXUJR0yOdKLA8sP9By8wmoRNuHdJmiChCHu_muSbju8SSnZ2yEwbjH.ztaIpiDwkYqboR0K0PrYmVXF68yLPaQTw.0dHs0y5YCDrJWjtvbk\",mdrd: \"147.lupP0AZvLNmKQSTk2y13gEBYXHuwvbpGt2veiww-1750077179-1.2.1.1-5AWmZMx58_HmLjqgtE_p7HY4hH2rytpuMLqsNU5zdb3c4QBi7FdvmbtE924_w9rn2EfkvfzZeHIqHzY1SC0ylF1j5QFkZxMcqRUNnltCjnJC4eB3QPn5nKNR29vU6V8X0a37YhFj.3Vi8TuOVkxpZCmIXBcFvWKQsIGx3Z1bO4xcOUePxoEmtu1B1442Csgzdcuq2BfXvt6Y_NMvceA1vtYNfo01XhHc56RLssgWqKOcq5duHwcf4QHSaq4_9mn.mj.ll1b33hVB1FuNuO3XklVD8vnC1qUcashPtqBkMVu7_r2OEngzqC7dzD161UvKWOMjXrTtpMbPEoTW_e4xwb_kxBGMbDWECkcehV2OhZuCme0HnD3zPCECNQ6nSodqVHlcv20GlSUepfiQRCetOyzKh7BaN1Qgb8rdMHc40n9rQyX8b6XSxpA5HvHPRoH20tqRU0RuzqhgzhWUjYwQCpM0SiL4RSF2oDveAWXVVZHs.uNPdenS9ic4fuHBmI_b9MgHlfNX4f0SLXHzXBDLBN2EzNZUWIc24Yrh7rxEgHWXEfRIq4vbf4DO3kogDq6BKgymUKmDDCcYf7NzcL98S5nw.0YkkkJ_AULlpDtdL.rIGOrzwFP51jVuhL9Q4IJMeN2kTUC_918EwCjeojKTfLrlYltWruc.Xl5V07joDDo4kFgEnliaVlOKJAHxmL8pRACsMgNUQ.QXlka9TPY9JKxLK6kF7HjtcCDb0nh5Yb8WeS3gtvfROgWYThNkTapARZLt8W2b.zdxTQoAYYgk8twO2Vvm8xl0C89HjdjNxEofflBHPRK9FCR37c4ebfnB3iaOQvk5I6eps1neVmu3nIj8ulpMXtoZ5EBMMM576JBI2TCZZdG_0JlwAsE0GBQ0pN7U.efJPN8PqIYiZspVRtVESFSskCiW5uUlJcyaufqEMIIIfg8r0AD3ge0E1aVFSjpn.wpJb6QJxgT1xyBwrzjNm1csn8tZqizeZyIog4ecfChseXDmpcvRf_vZB52pQyNKbFrZxzjQqEtIeBfzK37F2tw5yCk9iYCmswt6kRezHDyfwj0gfoVkyCpT2Dl3k9GZs.LWpwuJ3jaL0IooxQC6lUHyzXpYh91LxfilsRlh7ScvN_60QfBK5RAZ5vXz.U0cSS3tX8HhBw_BzeMq.z6oxVFH1cBpz3AlKbdpu4ocZADQQISJOKwxpTFe5_SFvdhxJx.T1Sqk75wwy_hCVPP9v7LlWyUq77mxIrXsGyb23WFl1IpOVeM9NW4__gxVW2B1rOpzOrN0PBZALiVFeKTMlgsw4EsAcXVHe7SklNWQaIw0j8x.bfFuhe2PnaQhVlYSc6bPA5fprk9r7MhMCZjTw10SVu6F9ZLCez4pIa1e0G2iOxKO4P7_l0RYHXp4Q.FtHdBb9oQG1c1BdogzoKhC8PJ4g738jENMSWqjv_RpCt0LPm_eOFZ8n9LMWQYQEi0ImfY7OTTy3_JkTCo3HB3toGK4Tm0UprD_LlgzCGx8Nyel_I8KFXXptk3izWO7INRVr8CwjIAMc1tYCW_gwRsF_.P1na.rS6XXuIruvZ1wiaAumyTgE6tibANnaDIat12CCsti5KqIEIN9ElTFtagXn9xHe79sLyw02d9WVNeynTsHU70dB.QRkKQ8sGDlB0Bo3iPCkcE.qMz7MRYwoMidvfvddKXb6FI9hYwQ_04NP8hFbjEAmkv3tGOYEDAwYKOQnz1ewtaQpq2fQcgYJLYRB5H2RVuAIeN6VgFo7BjywJLoy352udk0VqfuSrPA9sauo1jndhbidWEmuCN_8lHYfZLkQdMqeHG1CbO.S9PS7_a6QPu4sBSLbbMuJ9WkmDOgsaXYNXTQeqtSsQnd_Toe4oxEOu9ymJaSwxaAPyjeeEgsrjEfug3HHjHqcwVZHpnX_dVEckRlB3UNxYYC8ZwMLwkDnf0iE3XTqisfWeXFAi0NnNqC5q89us6xGwa2WgfKDsZKVKXQY9GyBEoHVTQp7S3F7BcrHq49jvYtN2MVo3WIvEw_1Nm41u2KJpt0QhlBCLPH2w4VxxbRy6J30_3Xsaf7oMQEB7DJHrMpt7S8yE2NrKAyvdQbVL98y99F9Romk5fXZWM57RCt_MD0FIhPMDLw1gSjXW_mGJc7dGFBXRwodjRD2gTt79Jiu38dyCqKou0XtY_0UGIZ.SpiTl4OfDeqOO82AFkNR9pMdZNzwiA5h5uIo3qbOspq1rkgho1PRDHqtiI.cgLyF2rXA38UCvOAbTHZc99AKP6WYLuL6jKu9fxCjligdR8gfO3b_X9T6yadJmXZAafSUr3oO73iEyNrIlznzmZL2xSaef2qZ4.yvXBa4PKSsi0TAxaSeIKIJ9nRU2z10SEnNt7HkAdMhmcBY5F7JNH9wmFBncjsNtKVrMDGOgeqM0JpoJoXrlx5DmmnJgM8mTCR78R_4QsZ3zOhiwvKCEC6gtbQxttqfdSg7gL4zvNrF.CrsTp4_d2E63X2X41ln_PAFw3oMurii4uYuds1wBqfQ2V8hhbxzM81k5g3ubP1UCfbcaeaQMA7Kgd4lTFFO68Bt3TffCyki2Ey4AemXx1ZrrkxuxnMo5aD7gyP43igdJATx5LuVGt59dDvdv9iboBriM9iRfq0K62VzuzaMuJLu1nFwnavvsIPSMa38Qu2tkXyGSD8OtM6OQgU6LY21MyLOuTqxcLdDhwfdYrVtigj4c1HjSJwduqHK8ZyF_FrYGvMdc0t0bMVeQ3Y0aCVwnMAcwysNG1yf06Gi4w8FrfVhaBKvE3yN5cP6ZM9vM0er2bqhywFpij0tiOmRZE9nU26ViCu2v4w5kC7puTXCPcbpQRrSlWQMBCwDCdH1u9bjgWVt3ef0Ml94Vbg2QSrmbImxV2qQxGUQ_SSZr7KAFDadae8I4cNnsNdB.cReks0MBAxL.lIidScetQ3b7m3jwCBnUENeXjFCghdfWjXrxFw0as6mSNekH49O35LI3m26CKdg6xTF_TA1idiMvSZq39DLGR1p4eB_MVDp0Rm2QXSe9UhU6H70mFR1IEeAGsqh7TVwwUxptPoZVeFsrOC8xQwDDI2h8b4ThVb1XRTXfRA48yPmH1QSxEqJKj_twPH4t95uhNLvpiY6Hdf5KS.8zGNqAv1HFJjBFYDf1PkmwmS7gnVeY1J_oQPZvvvDXCoB1Q9D5NxbHJR1502v12srAIWeSZJLtK26VNrAA_qobrKQSyeL8DJODVaFbtr2p8DkpnjJSNBo1wnX.3HtPqrTlLbVjhZmKrBMXx.nDVEFAxQ.AB9qiXrd6HV6gikbb2KkMf8t4tlTmznurdV6LMly6cg9PycJjJt2XyxzQUou4Rrvch4w6htF_TxhxtExfd9PFWC01zQpV1iPMQTu2ljmToeBW9N1hUyCBfQNb3ptA5Vs7Gwi_9eEARaP.Tyay6ddTlcLz35evu_1r32vnWNb1Nh07esIrxwBvGCjeE1BNFnx1i.m8QNLyxIm0XPyEnlOinjHdmL4X8enRkcKok.tRc.M6oaFTJzIG3YexAFqFNM3QBh5Tt6gFg414i18b8ppec6VtV0sod8A8wgpjDgRvafWBPhSfG7sLz.qJhajp__pPGCZr_eZFVMFG__aC7VyxqBTJFFuTY7yn2n0qOWZNU38xWdboCXAAn_Kijmhz._1vdlX8pTZeuuo.PLE2R4.xZQZTfCYfjXGbkIKIRjWCs6zTvm717tzwA8VFqOjZ1T0KjNu5y3KBp.zyh7nYNBRQvL7miB5OMsYdnes9xgnSWcvPj8dg6QNOwyEhlVH5q2Hyv.RK5qpOqJ8SK.CfiujtsuIpBzctxvmzOcVnV1rg5IcPS2TAO4k75uFygPi_T7szwW7OAVJsr7bfe9zV.4Eq3VLaW1xA.V9VGaCiQk79.SBYw2q14.M611SKiWZIDJqwVOQe93CxFOiAdKr.5VBHBGAdmNnzEhN.MNNFAwbSwS8cQVX05gUiVrEQ8m9PVHwKip.RIvR1si_tUMhfMbJtCAvIGvx8nnumzpT8nwOXaIzB1pNByF8bf.4v3xZ3ZzEJMbxBlSJQE4DOLJZhvjz0ezGwsIJPGUFZLC3qACJyrHi3TUj2EZDOpCDMAZfkcv7Ay7ocgWxd03RkVIAA5_TIRD7oXu6IczP3jnq_TNVuqdVjgtytITgo_.0BQyX.aGTGzNpABoFVBV0BPZ8iV6K7y.jtpeSjwZVBsxoEqq1t1Xh32PAQ\",};var a = document.createElement('script');a.src = '/cdn-cgi/challenge-platform/h/b/orchestrate/chl_page/v1?ray=950a55439cab0399';window._cf_chl_opt.cOgUHash = location.hash === '' && location.href.indexOf('#') !== -1 ? '#' : location.hash;window._cf_chl_opt.cOgUQuery = location.search === '' && location.href.slice(0, location.href.length - window._cf_chl_opt.cOgUHash.length).indexOf('?') !== -1 ? '?' : location.search;if (window.history && window.history.replaceState) {var ogU = location.pathname + window._cf_chl_opt.cOgUQuery + window._cf_chl_opt.cOgUHash;history.replaceState(null, null, \"\\/authorized-third-party-driver-license-locations?__cf_chl_rt_tk=DVAtE1crnNoE6jM0dK6KOYjO4p4zImoaDCT5axdGaRc-1750077179-1.0.1.1-ly.HsCdXML461x3xo.8egci2QKpWL3CYdvceKqiobg4\" + window._cf_chl_opt.cOgUHash);a.onload = function() {history.replaceState(null, null, ogU);}}document.getElementsByTagName('head')[0].appendChild(a);}());</script></body></html>\n"
     ]
    }
   ],
   "source": [
    "import requests\n",
    "import pandas as pd\n",
    "from bs4 import BeautifulSoup\n",
    "\n",
    "url = 'https://travel-id-documents.az.gov/authorized-third-party-driver-license-locations'\n",
    "\n",
    "# we're using some 'fuller' user-agent headers for this one, otherwise it doesn't really give us the table with our request.\n",
    "headers = {\n",
    "    'User-Agent': 'Mozilla/5.0 (Windows NT 10.0; Win64; x64) AppleWebKit/537.36 (KHTML, like Gecko) Chrome/58.0.3029.110 Safari/537.36'\n",
    "}\n",
    "\n",
    "response = requests.get(url)\n",
    "\n",
    "print(response.status_code)\n",
    "doc = BeautifulSoup(response.text, 'html.parser')\n",
    "print(doc)"
   ]
  },
  {
   "cell_type": "code",
   "execution_count": 5,
   "id": "e419b440-3ec4-447b-bd6c-0d840bc1c88f",
   "metadata": {},
   "outputs": [
    {
     "ename": "AttributeError",
     "evalue": "'NoneType' object has no attribute 'find'",
     "output_type": "error",
     "traceback": [
      "\u001b[31m---------------------------------------------------------------------------\u001b[39m",
      "\u001b[31mAttributeError\u001b[39m                            Traceback (most recent call last)",
      "\u001b[36mCell\u001b[39m\u001b[36m \u001b[39m\u001b[32mIn[5]\u001b[39m\u001b[32m, line 1\u001b[39m\n\u001b[32m----> \u001b[39m\u001b[32m1\u001b[39m table = \u001b[43mdoc\u001b[49m\u001b[43m.\u001b[49m\u001b[43mfind\u001b[49m\u001b[43m(\u001b[49m\u001b[33;43m'\u001b[39;49m\u001b[33;43mtable\u001b[39;49m\u001b[33;43m'\u001b[39;49m\u001b[43m)\u001b[49m\u001b[43m.\u001b[49m\u001b[43mfind\u001b[49m(\u001b[33m'\u001b[39m\u001b[33mtbody\u001b[39m\u001b[33m'\u001b[39m)\n",
      "\u001b[31mAttributeError\u001b[39m: 'NoneType' object has no attribute 'find'"
     ]
    }
   ],
   "source": [
    "table = doc.find('table').find('tbody')"
   ]
  },
  {
   "cell_type": "code",
   "execution_count": null,
   "id": "b84787e5-f0ac-4cf8-8e8b-5aed881e9b19",
   "metadata": {},
   "outputs": [],
   "source": [
    "table_rows = table.find_all('tr')"
   ]
  },
  {
   "cell_type": "code",
   "execution_count": 4,
   "id": "abebccc7-7dcb-4455-a108-7c0acaa57db4",
   "metadata": {},
   "outputs": [
    {
     "ename": "NameError",
     "evalue": "name 'table_rows' is not defined",
     "output_type": "error",
     "traceback": [
      "\u001b[31m---------------------------------------------------------------------------\u001b[39m",
      "\u001b[31mNameError\u001b[39m                                 Traceback (most recent call last)",
      "\u001b[36mCell\u001b[39m\u001b[36m \u001b[39m\u001b[32mIn[4]\u001b[39m\u001b[32m, line 2\u001b[39m\n\u001b[32m      1\u001b[39m \u001b[38;5;66;03m# make sure to omit row 1 (zero) as its just the labels in the <thead> of the <table>\u001b[39;00m\n\u001b[32m----> \u001b[39m\u001b[32m2\u001b[39m \u001b[38;5;28;01mfor\u001b[39;00m row \u001b[38;5;129;01min\u001b[39;00m \u001b[43mtable_rows\u001b[49m[\u001b[32m1\u001b[39m:]:\n\u001b[32m      3\u001b[39m   result = []\n\u001b[32m      4\u001b[39m   \u001b[38;5;28;01mif\u001b[39;00m \u001b[38;5;28mlen\u001b[39m(row.select(\u001b[33m'\u001b[39m\u001b[33ma\u001b[39m\u001b[33m'\u001b[39m)) > \u001b[32m0\u001b[39m:\n",
      "\u001b[31mNameError\u001b[39m: name 'table_rows' is not defined"
     ]
    }
   ],
   "source": [
    "# make sure to omit row 1 (zero) as its just the labels in the <thead> of the <table>\n",
    "data = []\n",
    "for row in table_rows[1:]:\n",
    "  result = []\n",
    "  if len(row.select('a')) > 0:\n",
    "    result.append(row.select('a')[0]['href'])\n",
    "  else:\n",
    "    result.append('')\n",
    "  cells = row.select('td')\n",
    "  for cell in cells:\n",
    "      result.append(cell.text)\n",
    "  data.append(result)"
   ]
  },
  {
   "cell_type": "code",
   "execution_count": null,
   "id": "ac8fc533-ae0c-432c-b0a6-5555a5698228",
   "metadata": {},
   "outputs": [],
   "source": [
    "df = []\n",
    "df = pd.DataFrame(df, columns=[\"Link\", \"Company\",\"Address\",\"Telephone\",\"Hours\"]"
   ]
  },
  {
   "cell_type": "code",
   "execution_count": null,
   "id": "990dfcad-f2df-499b-ac3b-5a605f81f45e",
   "metadata": {},
   "outputs": [],
   "source": [
    "# Should see the first five rows of the table here\n",
    "df.head()"
   ]
  },
  {
   "cell_type": "code",
   "execution_count": null,
   "id": "d2adb685-3e20-4819-bdaf-0d4e91b59e69",
   "metadata": {},
   "outputs": [],
   "source": [
    "# Save to csv\n",
    "df.to_csv(\"license-locations.csv\")"
   ]
  }
 ],
 "metadata": {
  "kernelspec": {
   "display_name": "Python 3 (ipykernel)",
   "language": "python",
   "name": "python3"
  },
  "language_info": {
   "codemirror_mode": {
    "name": "ipython",
    "version": 3
   },
   "file_extension": ".py",
   "mimetype": "text/x-python",
   "name": "python",
   "nbconvert_exporter": "python",
   "pygments_lexer": "ipython3",
   "version": "3.13.3"
  }
 },
 "nbformat": 4,
 "nbformat_minor": 5
}
